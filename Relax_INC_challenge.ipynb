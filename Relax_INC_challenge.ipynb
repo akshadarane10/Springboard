{
 "cells": [
  {
   "cell_type": "code",
   "execution_count": 48,
   "id": "d94604a2-6342-4ecd-8d40-27a74b66111a",
   "metadata": {},
   "outputs": [],
   "source": [
    "##pip install xgboost"
   ]
  },
  {
   "cell_type": "code",
   "execution_count": 49,
   "id": "bffe58df-3941-44c2-998d-d4c10f6ec6f7",
   "metadata": {},
   "outputs": [],
   "source": [
    "import pandas as pd\n",
    "import matplotlib.pyplot as plt\n",
    "import seaborn as sns\n",
    "from sklearn.preprocessing import OneHotEncoder\n",
    "from sklearn.model_selection import train_test_split\n",
    "from sklearn.linear_model import LogisticRegression\n",
    "from sklearn.metrics import classification_report, confusion_matrix, roc_auc_score\n",
    "from sklearn.model_selection import GridSearchCV, train_test_split\n",
    "from sklearn.metrics import roc_auc_score, classification_report\n",
    "from sklearn.ensemble import RandomForestClassifier, GradientBoostingClassifier\n",
    "from sklearn.linear_model import LogisticRegression\n",
    "import xgboost as xgb\n",
    "\n"
   ]
  },
  {
   "cell_type": "code",
   "execution_count": 50,
   "id": "a0035031-96af-4798-abd7-702b6dfcfb88",
   "metadata": {},
   "outputs": [],
   "source": [
    "# Load the CSV files\n",
    "users_df = pd.read_csv(\"takehome_users.csv\", encoding='latin1')  # Use latin1 in case of encoding issues\n",
    "engagement_df = pd.read_csv(\"takehome_user_engagement.csv\")"
   ]
  },
  {
   "cell_type": "code",
   "execution_count": 51,
   "id": "c228419f-bed8-4e95-b99e-165ff699a65b",
   "metadata": {},
   "outputs": [
    {
     "data": {
      "text/html": [
       "<div>\n",
       "<style scoped>\n",
       "    .dataframe tbody tr th:only-of-type {\n",
       "        vertical-align: middle;\n",
       "    }\n",
       "\n",
       "    .dataframe tbody tr th {\n",
       "        vertical-align: top;\n",
       "    }\n",
       "\n",
       "    .dataframe thead th {\n",
       "        text-align: right;\n",
       "    }\n",
       "</style>\n",
       "<table border=\"1\" class=\"dataframe\">\n",
       "  <thead>\n",
       "    <tr style=\"text-align: right;\">\n",
       "      <th></th>\n",
       "      <th>object_id</th>\n",
       "      <th>creation_time</th>\n",
       "      <th>name</th>\n",
       "      <th>email</th>\n",
       "      <th>creation_source</th>\n",
       "      <th>last_session_creation_time</th>\n",
       "      <th>opted_in_to_mailing_list</th>\n",
       "      <th>enabled_for_marketing_drip</th>\n",
       "      <th>org_id</th>\n",
       "      <th>invited_by_user_id</th>\n",
       "    </tr>\n",
       "  </thead>\n",
       "  <tbody>\n",
       "    <tr>\n",
       "      <th>0</th>\n",
       "      <td>1</td>\n",
       "      <td>2014-04-22 03:53:30</td>\n",
       "      <td>Clausen August</td>\n",
       "      <td>AugustCClausen@yahoo.com</td>\n",
       "      <td>GUEST_INVITE</td>\n",
       "      <td>1.398139e+09</td>\n",
       "      <td>1</td>\n",
       "      <td>0</td>\n",
       "      <td>11</td>\n",
       "      <td>10803.0</td>\n",
       "    </tr>\n",
       "    <tr>\n",
       "      <th>1</th>\n",
       "      <td>2</td>\n",
       "      <td>2013-11-15 03:45:04</td>\n",
       "      <td>Poole Matthew</td>\n",
       "      <td>MatthewPoole@gustr.com</td>\n",
       "      <td>ORG_INVITE</td>\n",
       "      <td>1.396238e+09</td>\n",
       "      <td>0</td>\n",
       "      <td>0</td>\n",
       "      <td>1</td>\n",
       "      <td>316.0</td>\n",
       "    </tr>\n",
       "    <tr>\n",
       "      <th>2</th>\n",
       "      <td>3</td>\n",
       "      <td>2013-03-19 23:14:52</td>\n",
       "      <td>Bottrill Mitchell</td>\n",
       "      <td>MitchellBottrill@gustr.com</td>\n",
       "      <td>ORG_INVITE</td>\n",
       "      <td>1.363735e+09</td>\n",
       "      <td>0</td>\n",
       "      <td>0</td>\n",
       "      <td>94</td>\n",
       "      <td>1525.0</td>\n",
       "    </tr>\n",
       "    <tr>\n",
       "      <th>3</th>\n",
       "      <td>4</td>\n",
       "      <td>2013-05-21 08:09:28</td>\n",
       "      <td>Clausen Nicklas</td>\n",
       "      <td>NicklasSClausen@yahoo.com</td>\n",
       "      <td>GUEST_INVITE</td>\n",
       "      <td>1.369210e+09</td>\n",
       "      <td>0</td>\n",
       "      <td>0</td>\n",
       "      <td>1</td>\n",
       "      <td>5151.0</td>\n",
       "    </tr>\n",
       "    <tr>\n",
       "      <th>4</th>\n",
       "      <td>5</td>\n",
       "      <td>2013-01-17 10:14:20</td>\n",
       "      <td>Raw Grace</td>\n",
       "      <td>GraceRaw@yahoo.com</td>\n",
       "      <td>GUEST_INVITE</td>\n",
       "      <td>1.358850e+09</td>\n",
       "      <td>0</td>\n",
       "      <td>0</td>\n",
       "      <td>193</td>\n",
       "      <td>5240.0</td>\n",
       "    </tr>\n",
       "  </tbody>\n",
       "</table>\n",
       "</div>"
      ],
      "text/plain": [
       "   object_id        creation_time               name  \\\n",
       "0          1  2014-04-22 03:53:30     Clausen August   \n",
       "1          2  2013-11-15 03:45:04      Poole Matthew   \n",
       "2          3  2013-03-19 23:14:52  Bottrill Mitchell   \n",
       "3          4  2013-05-21 08:09:28    Clausen Nicklas   \n",
       "4          5  2013-01-17 10:14:20          Raw Grace   \n",
       "\n",
       "                        email creation_source  last_session_creation_time  \\\n",
       "0    AugustCClausen@yahoo.com    GUEST_INVITE                1.398139e+09   \n",
       "1      MatthewPoole@gustr.com      ORG_INVITE                1.396238e+09   \n",
       "2  MitchellBottrill@gustr.com      ORG_INVITE                1.363735e+09   \n",
       "3   NicklasSClausen@yahoo.com    GUEST_INVITE                1.369210e+09   \n",
       "4          GraceRaw@yahoo.com    GUEST_INVITE                1.358850e+09   \n",
       "\n",
       "   opted_in_to_mailing_list  enabled_for_marketing_drip  org_id  \\\n",
       "0                         1                           0      11   \n",
       "1                         0                           0       1   \n",
       "2                         0                           0      94   \n",
       "3                         0                           0       1   \n",
       "4                         0                           0     193   \n",
       "\n",
       "   invited_by_user_id  \n",
       "0             10803.0  \n",
       "1               316.0  \n",
       "2              1525.0  \n",
       "3              5151.0  \n",
       "4              5240.0  "
      ]
     },
     "execution_count": 51,
     "metadata": {},
     "output_type": "execute_result"
    }
   ],
   "source": [
    "# Display first few rows of each\n",
    "users_df.head()"
   ]
  },
  {
   "cell_type": "code",
   "execution_count": 52,
   "id": "81844d04-387b-414e-8f66-2922530659c8",
   "metadata": {},
   "outputs": [
    {
     "data": {
      "text/html": [
       "<div>\n",
       "<style scoped>\n",
       "    .dataframe tbody tr th:only-of-type {\n",
       "        vertical-align: middle;\n",
       "    }\n",
       "\n",
       "    .dataframe tbody tr th {\n",
       "        vertical-align: top;\n",
       "    }\n",
       "\n",
       "    .dataframe thead th {\n",
       "        text-align: right;\n",
       "    }\n",
       "</style>\n",
       "<table border=\"1\" class=\"dataframe\">\n",
       "  <thead>\n",
       "    <tr style=\"text-align: right;\">\n",
       "      <th></th>\n",
       "      <th>time_stamp</th>\n",
       "      <th>user_id</th>\n",
       "      <th>visited</th>\n",
       "    </tr>\n",
       "  </thead>\n",
       "  <tbody>\n",
       "    <tr>\n",
       "      <th>0</th>\n",
       "      <td>2014-04-22 03:53:30</td>\n",
       "      <td>1</td>\n",
       "      <td>1</td>\n",
       "    </tr>\n",
       "    <tr>\n",
       "      <th>1</th>\n",
       "      <td>2013-11-15 03:45:04</td>\n",
       "      <td>2</td>\n",
       "      <td>1</td>\n",
       "    </tr>\n",
       "    <tr>\n",
       "      <th>2</th>\n",
       "      <td>2013-11-29 03:45:04</td>\n",
       "      <td>2</td>\n",
       "      <td>1</td>\n",
       "    </tr>\n",
       "    <tr>\n",
       "      <th>3</th>\n",
       "      <td>2013-12-09 03:45:04</td>\n",
       "      <td>2</td>\n",
       "      <td>1</td>\n",
       "    </tr>\n",
       "    <tr>\n",
       "      <th>4</th>\n",
       "      <td>2013-12-25 03:45:04</td>\n",
       "      <td>2</td>\n",
       "      <td>1</td>\n",
       "    </tr>\n",
       "  </tbody>\n",
       "</table>\n",
       "</div>"
      ],
      "text/plain": [
       "            time_stamp  user_id  visited\n",
       "0  2014-04-22 03:53:30        1        1\n",
       "1  2013-11-15 03:45:04        2        1\n",
       "2  2013-11-29 03:45:04        2        1\n",
       "3  2013-12-09 03:45:04        2        1\n",
       "4  2013-12-25 03:45:04        2        1"
      ]
     },
     "execution_count": 52,
     "metadata": {},
     "output_type": "execute_result"
    }
   ],
   "source": [
    "engagement_df.head()"
   ]
  },
  {
   "cell_type": "code",
   "execution_count": 53,
   "id": "c93819aa-d97b-4b9e-80b7-728020778b37",
   "metadata": {},
   "outputs": [
    {
     "name": "stdout",
     "output_type": "stream",
     "text": [
      "<class 'pandas.core.frame.DataFrame'>\n",
      "RangeIndex: 12000 entries, 0 to 11999\n",
      "Data columns (total 10 columns):\n",
      " #   Column                      Non-Null Count  Dtype  \n",
      "---  ------                      --------------  -----  \n",
      " 0   object_id                   12000 non-null  int64  \n",
      " 1   creation_time               12000 non-null  object \n",
      " 2   name                        12000 non-null  object \n",
      " 3   email                       12000 non-null  object \n",
      " 4   creation_source             12000 non-null  object \n",
      " 5   last_session_creation_time  8823 non-null   float64\n",
      " 6   opted_in_to_mailing_list    12000 non-null  int64  \n",
      " 7   enabled_for_marketing_drip  12000 non-null  int64  \n",
      " 8   org_id                      12000 non-null  int64  \n",
      " 9   invited_by_user_id          6417 non-null   float64\n",
      "dtypes: float64(2), int64(4), object(4)\n",
      "memory usage: 937.6+ KB\n"
     ]
    }
   ],
   "source": [
    "users_df.info()"
   ]
  },
  {
   "cell_type": "code",
   "execution_count": 54,
   "id": "606c2885-f80b-4bff-a845-1f1c399359af",
   "metadata": {},
   "outputs": [
    {
     "name": "stdout",
     "output_type": "stream",
     "text": [
      "<class 'pandas.core.frame.DataFrame'>\n",
      "RangeIndex: 207917 entries, 0 to 207916\n",
      "Data columns (total 3 columns):\n",
      " #   Column      Non-Null Count   Dtype \n",
      "---  ------      --------------   ----- \n",
      " 0   time_stamp  207917 non-null  object\n",
      " 1   user_id     207917 non-null  int64 \n",
      " 2   visited     207917 non-null  int64 \n",
      "dtypes: int64(2), object(1)\n",
      "memory usage: 4.8+ MB\n"
     ]
    }
   ],
   "source": [
    "engagement_df.info()"
   ]
  },
  {
   "cell_type": "markdown",
   "id": "8acafe87-3632-4320-8914-2c9a9d2f279e",
   "metadata": {},
   "source": [
    "Find adopted user:\n",
    "An adopted user is defined as a user who has logged into the product on three separate days within a seven-day period."
   ]
  },
  {
   "cell_type": "code",
   "execution_count": 55,
   "id": "059fd625-4807-4a8e-a85d-afc164e27439",
   "metadata": {},
   "outputs": [],
   "source": [
    "\n",
    "# Convert time_stamp to datetime\n",
    "engagement_df['time_stamp'] = pd.to_datetime(engagement_df['time_stamp'])"
   ]
  },
  {
   "cell_type": "code",
   "execution_count": 56,
   "id": "aa2bd6bb-b83a-45ec-8980-a0d11d37301e",
   "metadata": {},
   "outputs": [],
   "source": [
    "# Group by user_id and get sorted login dates\n",
    "user_login_dict = engagement_df.groupby('user_id')['time_stamp'].apply(list)"
   ]
  },
  {
   "cell_type": "code",
   "execution_count": 57,
   "id": "e18887b4-ddfa-4b97-aed8-67c195520c99",
   "metadata": {},
   "outputs": [],
   "source": [
    "# Identify adopted users\n",
    "adopted_users = set()\n"
   ]
  },
  {
   "cell_type": "code",
   "execution_count": 58,
   "id": "d35c61ec-d0b7-49bc-9b29-6e779be7b63c",
   "metadata": {},
   "outputs": [],
   "source": [
    "for user_id, logins in user_login_dict.items():\n",
    "    logins = sorted(logins)\n",
    "    for i in range(len(logins) - 2):\n",
    "        if (logins[i + 2] - logins[i]).days <= 7:\n",
    "            adopted_users.add(user_id)\n",
    "            break\n"
   ]
  },
  {
   "cell_type": "code",
   "execution_count": 59,
   "id": "75a2c1bc-5f12-47a2-832d-e9390af38d0c",
   "metadata": {},
   "outputs": [
    {
     "name": "stdout",
     "output_type": "stream",
     "text": [
      "Total adopted users: 1656\n"
     ]
    }
   ],
   "source": [
    "# Print how many users are adopted\n",
    "print(f\"Total adopted users: {len(adopted_users)}\")"
   ]
  },
  {
   "cell_type": "markdown",
   "id": "a8220992-7876-47a8-ac1f-18417c39f2f2",
   "metadata": {},
   "source": [
    "Total adopted users are : 1656"
   ]
  },
  {
   "cell_type": "markdown",
   "id": "c2d6e777-c00d-4782-9c9d-931c1415df96",
   "metadata": {},
   "source": [
    "We’ll create a new binary column adopted in the users_df to mark whether the user belongs to the adopted set."
   ]
  },
  {
   "cell_type": "code",
   "execution_count": 60,
   "id": "4a7303da-ea92-4548-b5d9-f82bfee36745",
   "metadata": {},
   "outputs": [],
   "source": [
    "users_df['adopted'] = users_df['object_id'].apply(lambda x: 1 if x in adopted_users else 0)\n"
   ]
  },
  {
   "cell_type": "code",
   "execution_count": 61,
   "id": "8f2b11f4-8858-4695-84e8-a79666b5ad8f",
   "metadata": {},
   "outputs": [
    {
     "data": {
      "text/plain": [
       "0.138"
      ]
     },
     "execution_count": 61,
     "metadata": {},
     "output_type": "execute_result"
    }
   ],
   "source": [
    " users_df['adopted'].mean()"
   ]
  },
  {
   "cell_type": "markdown",
   "id": "47aa5775-20dd-4cde-80e1-8fd637969c9a",
   "metadata": {},
   "source": [
    "## Exploratory Data Analysis"
   ]
  },
  {
   "cell_type": "markdown",
   "id": "62e3f7e3-7284-49c8-b016-f70a3f02a1a1",
   "metadata": {},
   "source": [
    "Adoption Rate by creation_source"
   ]
  },
  {
   "cell_type": "code",
   "execution_count": 62,
   "id": "3f781b90-88ac-4305-8998-3877b7d98d02",
   "metadata": {},
   "outputs": [
    {
     "data": {
      "image/png": "[encoded data removed]",
      "text/plain": [
       "<Figure size 800x400 with 1 Axes>"
      ]
     },
     "metadata": {},
     "output_type": "display_data"
    }
   ],
   "source": [
    "plt.figure(figsize=(8, 4))\n",
    "sns.barplot(x='creation_source', y='adopted', data=users_df)\n",
    "plt.xticks(rotation=45)\n",
    "plt.title(\"Adoption Rate by Creation Source\")\n",
    "plt.tight_layout()\n",
    "plt.show()"
   ]
  },
  {
   "cell_type": "markdown",
   "id": "2f9cc21b-962b-4bb7-af32-8c38976cb9d3",
   "metadata": {},
   "source": [
    "Guest_Invite & Signup_Google_Auth has teh highest adoption rate & lowest is from personal_projects"
   ]
  },
  {
   "cell_type": "markdown",
   "id": "7be36367-bedb-4bd0-b109-4242f825dde4",
   "metadata": {},
   "source": [
    "##  Invited vs Non-invited Users"
   ]
  },
  {
   "cell_type": "code",
   "execution_count": 63,
   "id": "437a5132-ca0f-4d5f-b339-2f923e9555c7",
   "metadata": {},
   "outputs": [
    {
     "data": {
      "image/png": "[encoded data removed]",
      "text/plain": [
       "<Figure size 640x480 with 1 Axes>"
      ]
     },
     "metadata": {},
     "output_type": "display_data"
    }
   ],
   "source": [
    "# Create feature: Was the user invited by someone?\n",
    "users_df['was_invited'] = users_df['invited_by_user_id'].notnull().astype(int)\n",
    "\n",
    "sns.barplot(x='was_invited', y='adopted', data=users_df)\n",
    "plt.title(\"Adoption Rate: Invited vs Not Invited\")\n",
    "plt.xticks([0, 1], ['Not Invited', 'Invited'])\n",
    "plt.ylabel(\"Adoption Rate\")\n",
    "plt.show()\n"
   ]
  },
  {
   "cell_type": "markdown",
   "id": "804385c0-a0ce-4a96-9a8b-69457c5b5c3e",
   "metadata": {},
   "source": [
    "Invited has the highest adoption rate"
   ]
  },
  {
   "cell_type": "markdown",
   "id": "71d43fc5-4510-4c78-89d3-ba950ac74e9b",
   "metadata": {},
   "source": [
    "## Feature Engineering"
   ]
  },
  {
   "cell_type": "code",
   "execution_count": 64,
   "id": "5de2ebdc-421b-4bc3-8312-36d1e4724322",
   "metadata": {},
   "outputs": [],
   "source": [
    "# One-hot encode 'creation_source'\n",
    "encoded_creation = pd.get_dummies(users_df['creation_source'], prefix='source')\n"
   ]
  },
  {
   "cell_type": "code",
   "execution_count": 65,
   "id": "50ae4d80-57cf-486f-b341-a48ce73adc0c",
   "metadata": {},
   "outputs": [
    {
     "data": {
      "text/html": [
       "<div>\n",
       "<style scoped>\n",
       "    .dataframe tbody tr th:only-of-type {\n",
       "        vertical-align: middle;\n",
       "    }\n",
       "\n",
       "    .dataframe tbody tr th {\n",
       "        vertical-align: top;\n",
       "    }\n",
       "\n",
       "    .dataframe thead th {\n",
       "        text-align: right;\n",
       "    }\n",
       "</style>\n",
       "<table border=\"1\" class=\"dataframe\">\n",
       "  <thead>\n",
       "    <tr style=\"text-align: right;\">\n",
       "      <th></th>\n",
       "      <th>source_GUEST_INVITE</th>\n",
       "      <th>source_ORG_INVITE</th>\n",
       "      <th>source_PERSONAL_PROJECTS</th>\n",
       "      <th>source_SIGNUP</th>\n",
       "      <th>source_SIGNUP_GOOGLE_AUTH</th>\n",
       "    </tr>\n",
       "  </thead>\n",
       "  <tbody>\n",
       "    <tr>\n",
       "      <th>0</th>\n",
       "      <td>True</td>\n",
       "      <td>False</td>\n",
       "      <td>False</td>\n",
       "      <td>False</td>\n",
       "      <td>False</td>\n",
       "    </tr>\n",
       "    <tr>\n",
       "      <th>1</th>\n",
       "      <td>False</td>\n",
       "      <td>True</td>\n",
       "      <td>False</td>\n",
       "      <td>False</td>\n",
       "      <td>False</td>\n",
       "    </tr>\n",
       "    <tr>\n",
       "      <th>2</th>\n",
       "      <td>False</td>\n",
       "      <td>True</td>\n",
       "      <td>False</td>\n",
       "      <td>False</td>\n",
       "      <td>False</td>\n",
       "    </tr>\n",
       "    <tr>\n",
       "      <th>3</th>\n",
       "      <td>True</td>\n",
       "      <td>False</td>\n",
       "      <td>False</td>\n",
       "      <td>False</td>\n",
       "      <td>False</td>\n",
       "    </tr>\n",
       "    <tr>\n",
       "      <th>4</th>\n",
       "      <td>True</td>\n",
       "      <td>False</td>\n",
       "      <td>False</td>\n",
       "      <td>False</td>\n",
       "      <td>False</td>\n",
       "    </tr>\n",
       "  </tbody>\n",
       "</table>\n",
       "</div>"
      ],
      "text/plain": [
       "   source_GUEST_INVITE  source_ORG_INVITE  source_PERSONAL_PROJECTS  \\\n",
       "0                 True              False                     False   \n",
       "1                False               True                     False   \n",
       "2                False               True                     False   \n",
       "3                 True              False                     False   \n",
       "4                 True              False                     False   \n",
       "\n",
       "   source_SIGNUP  source_SIGNUP_GOOGLE_AUTH  \n",
       "0          False                      False  \n",
       "1          False                      False  \n",
       "2          False                      False  \n",
       "3          False                      False  \n",
       "4          False                      False  "
      ]
     },
     "execution_count": 65,
     "metadata": {},
     "output_type": "execute_result"
    }
   ],
   "source": [
    "encoded_creation.head()"
   ]
  },
  {
   "cell_type": "code",
   "execution_count": 66,
   "id": "eb7ff611-e88d-4e6f-b703-a577c0226a8c",
   "metadata": {},
   "outputs": [
    {
     "data": {
      "text/html": [
       "<div>\n",
       "<style scoped>\n",
       "    .dataframe tbody tr th:only-of-type {\n",
       "        vertical-align: middle;\n",
       "    }\n",
       "\n",
       "    .dataframe tbody tr th {\n",
       "        vertical-align: top;\n",
       "    }\n",
       "\n",
       "    .dataframe thead th {\n",
       "        text-align: right;\n",
       "    }\n",
       "</style>\n",
       "<table border=\"1\" class=\"dataframe\">\n",
       "  <thead>\n",
       "    <tr style=\"text-align: right;\">\n",
       "      <th></th>\n",
       "      <th>object_id</th>\n",
       "      <th>creation_time</th>\n",
       "      <th>name</th>\n",
       "      <th>email</th>\n",
       "      <th>creation_source</th>\n",
       "      <th>last_session_creation_time</th>\n",
       "      <th>opted_in_to_mailing_list</th>\n",
       "      <th>enabled_for_marketing_drip</th>\n",
       "      <th>org_id</th>\n",
       "      <th>invited_by_user_id</th>\n",
       "      <th>adopted</th>\n",
       "      <th>was_invited</th>\n",
       "    </tr>\n",
       "  </thead>\n",
       "  <tbody>\n",
       "    <tr>\n",
       "      <th>0</th>\n",
       "      <td>1</td>\n",
       "      <td>2014-04-22 03:53:30</td>\n",
       "      <td>Clausen August</td>\n",
       "      <td>AugustCClausen@yahoo.com</td>\n",
       "      <td>GUEST_INVITE</td>\n",
       "      <td>1.398139e+09</td>\n",
       "      <td>1</td>\n",
       "      <td>0</td>\n",
       "      <td>11</td>\n",
       "      <td>10803.0</td>\n",
       "      <td>0</td>\n",
       "      <td>1</td>\n",
       "    </tr>\n",
       "    <tr>\n",
       "      <th>1</th>\n",
       "      <td>2</td>\n",
       "      <td>2013-11-15 03:45:04</td>\n",
       "      <td>Poole Matthew</td>\n",
       "      <td>MatthewPoole@gustr.com</td>\n",
       "      <td>ORG_INVITE</td>\n",
       "      <td>1.396238e+09</td>\n",
       "      <td>0</td>\n",
       "      <td>0</td>\n",
       "      <td>1</td>\n",
       "      <td>316.0</td>\n",
       "      <td>1</td>\n",
       "      <td>1</td>\n",
       "    </tr>\n",
       "    <tr>\n",
       "      <th>2</th>\n",
       "      <td>3</td>\n",
       "      <td>2013-03-19 23:14:52</td>\n",
       "      <td>Bottrill Mitchell</td>\n",
       "      <td>MitchellBottrill@gustr.com</td>\n",
       "      <td>ORG_INVITE</td>\n",
       "      <td>1.363735e+09</td>\n",
       "      <td>0</td>\n",
       "      <td>0</td>\n",
       "      <td>94</td>\n",
       "      <td>1525.0</td>\n",
       "      <td>0</td>\n",
       "      <td>1</td>\n",
       "    </tr>\n",
       "    <tr>\n",
       "      <th>3</th>\n",
       "      <td>4</td>\n",
       "      <td>2013-05-21 08:09:28</td>\n",
       "      <td>Clausen Nicklas</td>\n",
       "      <td>NicklasSClausen@yahoo.com</td>\n",
       "      <td>GUEST_INVITE</td>\n",
       "      <td>1.369210e+09</td>\n",
       "      <td>0</td>\n",
       "      <td>0</td>\n",
       "      <td>1</td>\n",
       "      <td>5151.0</td>\n",
       "      <td>0</td>\n",
       "      <td>1</td>\n",
       "    </tr>\n",
       "    <tr>\n",
       "      <th>4</th>\n",
       "      <td>5</td>\n",
       "      <td>2013-01-17 10:14:20</td>\n",
       "      <td>Raw Grace</td>\n",
       "      <td>GraceRaw@yahoo.com</td>\n",
       "      <td>GUEST_INVITE</td>\n",
       "      <td>1.358850e+09</td>\n",
       "      <td>0</td>\n",
       "      <td>0</td>\n",
       "      <td>193</td>\n",
       "      <td>5240.0</td>\n",
       "      <td>0</td>\n",
       "      <td>1</td>\n",
       "    </tr>\n",
       "  </tbody>\n",
       "</table>\n",
       "</div>"
      ],
      "text/plain": [
       "   object_id        creation_time               name  \\\n",
       "0          1  2014-04-22 03:53:30     Clausen August   \n",
       "1          2  2013-11-15 03:45:04      Poole Matthew   \n",
       "2          3  2013-03-19 23:14:52  Bottrill Mitchell   \n",
       "3          4  2013-05-21 08:09:28    Clausen Nicklas   \n",
       "4          5  2013-01-17 10:14:20          Raw Grace   \n",
       "\n",
       "                        email creation_source  last_session_creation_time  \\\n",
       "0    AugustCClausen@yahoo.com    GUEST_INVITE                1.398139e+09   \n",
       "1      MatthewPoole@gustr.com      ORG_INVITE                1.396238e+09   \n",
       "2  MitchellBottrill@gustr.com      ORG_INVITE                1.363735e+09   \n",
       "3   NicklasSClausen@yahoo.com    GUEST_INVITE                1.369210e+09   \n",
       "4          GraceRaw@yahoo.com    GUEST_INVITE                1.358850e+09   \n",
       "\n",
       "   opted_in_to_mailing_list  enabled_for_marketing_drip  org_id  \\\n",
       "0                         1                           0      11   \n",
       "1                         0                           0       1   \n",
       "2                         0                           0      94   \n",
       "3                         0                           0       1   \n",
       "4                         0                           0     193   \n",
       "\n",
       "   invited_by_user_id  adopted  was_invited  \n",
       "0             10803.0        0            1  \n",
       "1               316.0        1            1  \n",
       "2              1525.0        0            1  \n",
       "3              5151.0        0            1  \n",
       "4              5240.0        0            1  "
      ]
     },
     "execution_count": 66,
     "metadata": {},
     "output_type": "execute_result"
    }
   ],
   "source": [
    "users_df.head()"
   ]
  },
  {
   "cell_type": "code",
   "execution_count": 67,
   "id": "47502d2b-0016-4fe9-bdab-d9560b57dfe2",
   "metadata": {},
   "outputs": [],
   "source": [
    "# Select useful features\n",
    "feature_df = pd.concat([\n",
    "    encoded_creation,\n",
    "    users_df[['opted_in_to_mailing_list', 'enabled_for_marketing_drip', 'was_invited']],\n",
    "], axis=1)"
   ]
  },
  {
   "cell_type": "code",
   "execution_count": 68,
   "id": "a76906ff-d683-4306-b78e-101437f700fa",
   "metadata": {},
   "outputs": [],
   "source": [
    "# Drop rows with missing values in numerical columns (due to NaT in session time)\n",
    "feature_df = feature_df.dropna()\n",
    "labels = users_df.loc[feature_df.index, 'adopted']"
   ]
  },
  {
   "cell_type": "markdown",
   "id": "ddb8da34-9c0f-4a04-9da3-7f3f8e7ee9cd",
   "metadata": {},
   "source": [
    "## Model Building"
   ]
  },
  {
   "cell_type": "markdown",
   "id": "e0193eb6-d257-4a8c-bebe-7a2bd2b67f46",
   "metadata": {},
   "source": [
    "Logistic Regression"
   ]
  },
  {
   "cell_type": "code",
   "execution_count": 69,
   "id": "4c0b35ac-0d1a-423d-aab5-41a2edbb3ae2",
   "metadata": {},
   "outputs": [],
   "source": [
    "# Train/test split\n",
    "X_train, X_test, y_train, y_test = train_test_split(feature_df, labels, test_size=0.3, random_state=42)"
   ]
  },
  {
   "cell_type": "code",
   "execution_count": 70,
   "id": "3d375452-1b89-4bf9-a587-1c96a1f3af1c",
   "metadata": {},
   "outputs": [],
   "source": [
    "param_grid_lr = {\n",
    "    'C': [0.01, 0.1, 1, 10],\n",
    "    'penalty': ['l2'],\n",
    "    'solver': ['lbfgs']\n",
    "}"
   ]
  },
  {
   "cell_type": "code",
   "execution_count": 71,
   "id": "4926b6d8-acb8-43c4-af48-8c7cbc3a5392",
   "metadata": {},
   "outputs": [
    {
     "name": "stdout",
     "output_type": "stream",
     "text": [
      "Best Logistic Regression AUC: 0.5521425806451613\n"
     ]
    }
   ],
   "source": [
    "grid_lr = GridSearchCV(LogisticRegression(max_iter=1000), param_grid_lr, cv=5, scoring='roc_auc')\n",
    "grid_lr.fit(X_train, y_train)\n",
    "print(\"Best Logistic Regression AUC:\", roc_auc_score(y_test, grid_lr.predict_proba(X_test)[:, 1]))\n"
   ]
  },
  {
   "cell_type": "markdown",
   "id": "69a95ef6-e176-41dc-ab83-e517097b4a69",
   "metadata": {},
   "source": [
    "Random Forest"
   ]
  },
  {
   "cell_type": "code",
   "execution_count": 72,
   "id": "a3e46b56-a39e-446a-a35e-5155e8da7619",
   "metadata": {},
   "outputs": [],
   "source": [
    "param_grid_rf = {\n",
    "    'n_estimators': [100, 200],\n",
    "    'max_depth': [None, 10, 20],\n",
    "    'min_samples_split': [2, 5],\n",
    "}"
   ]
  },
  {
   "cell_type": "code",
   "execution_count": 73,
   "id": "b664ea6a-bb35-4a0d-9084-96e14e30facb",
   "metadata": {},
   "outputs": [
    {
     "name": "stdout",
     "output_type": "stream",
     "text": [
      "Best Random Forest AUC: 0.5522096774193548\n"
     ]
    }
   ],
   "source": [
    "grid_rf = GridSearchCV(RandomForestClassifier(random_state=42), param_grid_rf, cv=5, scoring='roc_auc')\n",
    "grid_rf.fit(X_train, y_train)\n",
    "print(\"Best Random Forest AUC:\", roc_auc_score(y_test, grid_rf.predict_proba(X_test)[:, 1]))"
   ]
  },
  {
   "cell_type": "markdown",
   "id": "513273db-859a-4cad-a4a9-379c73189661",
   "metadata": {},
   "source": [
    "XGBoost"
   ]
  },
  {
   "cell_type": "code",
   "execution_count": 74,
   "id": "ca1744c8-c488-424e-a3f3-cf8bc81a3948",
   "metadata": {},
   "outputs": [],
   "source": [
    "param_grid_xgb = {\n",
    "    'n_estimators': [100, 200],\n",
    "    'learning_rate': [0.01, 0.1],\n",
    "    'max_depth': [3, 5]\n",
    "}"
   ]
  },
  {
   "cell_type": "code",
   "execution_count": 75,
   "id": "82a974db-3b00-4dfc-801d-6ecdbbdf0adf",
   "metadata": {},
   "outputs": [
    {
     "name": "stdout",
     "output_type": "stream",
     "text": [
      "Best XGBoost AUC: 0.5511116129032257\n"
     ]
    }
   ],
   "source": [
    "grid_xgb = GridSearchCV(xgb.XGBClassifier(eval_metric='logloss'), param_grid_xgb, cv=5, scoring='roc_auc')\n",
    "grid_xgb.fit(X_train, y_train)\n",
    "print(\"Best XGBoost AUC:\", roc_auc_score(y_test, grid_xgb.predict_proba(X_test)[:, 1]))"
   ]
  },
  {
   "cell_type": "code",
   "execution_count": 76,
   "id": "636e5041-b3da-4b99-8c76-252a46a0c6a9",
   "metadata": {},
   "outputs": [
    {
     "name": "stdout",
     "output_type": "stream",
     "text": [
      "                      ROC AUC\n",
      "Random Forest        0.552210\n",
      "Logistic Regression  0.552143\n",
      "XGBoost              0.551112\n"
     ]
    }
   ],
   "source": [
    "model_results = {\n",
    "    'Logistic Regression': roc_auc_score(y_test, grid_lr.predict_proba(X_test)[:, 1]),\n",
    "    'Random Forest': roc_auc_score(y_test, grid_rf.predict_proba(X_test)[:, 1]),\n",
    "    'XGBoost': roc_auc_score(y_test, grid_xgb.predict_proba(X_test)[:, 1])\n",
    "}\n",
    "\n",
    "import pandas as pd\n",
    "results_df = pd.DataFrame.from_dict(model_results, orient='index', columns=['ROC AUC']).sort_values(by='ROC AUC', ascending=False)\n",
    "print(results_df)\n"
   ]
  },
  {
   "cell_type": "markdown",
   "id": "3053f5d8-64d4-484c-b72c-eead41903bd2",
   "metadata": {},
   "source": [
    "## Feature Importance"
   ]
  },
  {
   "cell_type": "code",
   "execution_count": 77,
   "id": "e85b4247-40ee-488b-9e6a-cc47cb189aae",
   "metadata": {},
   "outputs": [
    {
     "data": {
      "image/png": "[encoded data removed]",
      "text/plain": [
       "<Figure size 800x500 with 1 Axes>"
      ]
     },
     "metadata": {},
     "output_type": "display_data"
    }
   ],
   "source": [
    "# Coefficients\n",
    "importance = pd.Series(logreg.coef_[0], index=feature_df.columns).sort_values(ascending=False)\n",
    "\n",
    "plt.figure(figsize=(8, 5))\n",
    "sns.barplot(x=importance.values, y=importance.index)\n",
    "plt.title(\"Feature Importance (Logistic Regression Coefficients)\")\n",
    "plt.show()\n"
   ]
  },
  {
   "cell_type": "markdown",
   "id": "56aeadce-f4fa-49ae-81ed-9615f974609e",
   "metadata": {},
   "source": [
    "The list above ranks features by their importance, with creation_source_PERSONAL_PROJECTS being the most influential. This indicates that users invited to join another user's personal workspace are more likely to become active users. Additionally, the high importance of GUEST_INVITE and ORG_INVITE suggests that users who joined via guest or organizational invitations also tend to exhibit strong engagement and remain active.\n"
   ]
  },
  {
   "cell_type": "code",
   "execution_count": null,
   "id": "b5f664f3-76a9-402b-90d0-b903abe0e538",
   "metadata": {},
   "outputs": [],
   "source": []
  }
 ],
 "metadata": {
  "kernelspec": {
   "display_name": "Python 3 (ipykernel)",
   "language": "python",
   "name": "python3"
  },
  "language_info": {
   "codemirror_mode": {
    "name": "ipython",
    "version": 3
   },
   "file_extension": ".py",
   "mimetype": "text/x-python",
   "name": "python",
   "nbconvert_exporter": "python",
   "pygments_lexer": "ipython3",
   "version": "3.12.3"
  }
 },
 "nbformat": 4,
 "nbformat_minor": 5
}
